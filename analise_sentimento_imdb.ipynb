{
  "nbformat": 4,
  "nbformat_minor": 0,
  "metadata": {
    "colab": {
      "name": "analise_sentimento_imdb.ipynb",
      "provenance": [],
      "authorship_tag": "ABX9TyM0LTqW8K4ia9YgrKXy7xwt",
      "include_colab_link": true
    },
    "kernelspec": {
      "name": "python3",
      "display_name": "Python 3"
    },
    "language_info": {
      "name": "python"
    }
  },
  "cells": [
    {
      "cell_type": "markdown",
      "metadata": {
        "id": "view-in-github",
        "colab_type": "text"
      },
      "source": [
        "<a href=\"https://colab.research.google.com/github/letpires/imdb_sentiment_analysis/blob/main/analise_sentimento_imdb.ipynb\" target=\"_parent\"><img src=\"https://colab.research.google.com/assets/colab-badge.svg\" alt=\"Open In Colab\"/></a>"
      ]
    },
    {
      "cell_type": "code",
      "metadata": {
        "colab": {
          "base_uri": "https://localhost:8080/",
          "height": 194
        },
        "id": "OpFyXHg4tdXT",
        "outputId": "5be87f2e-4848-41d9-d4df-2af18ac1fa2a"
      },
      "source": [
        "import pandas as pd\n",
        "\n",
        "review = pd.read_csv(\"/content/imdb-reviews-pt-br.csv\")\n",
        "review.head()"
      ],
      "execution_count": null,
      "outputs": [
        {
          "output_type": "execute_result",
          "data": {
            "text/html": [
              "<div>\n",
              "<style scoped>\n",
              "    .dataframe tbody tr th:only-of-type {\n",
              "        vertical-align: middle;\n",
              "    }\n",
              "\n",
              "    .dataframe tbody tr th {\n",
              "        vertical-align: top;\n",
              "    }\n",
              "\n",
              "    .dataframe thead th {\n",
              "        text-align: right;\n",
              "    }\n",
              "</style>\n",
              "<table border=\"1\" class=\"dataframe\">\n",
              "  <thead>\n",
              "    <tr style=\"text-align: right;\">\n",
              "      <th></th>\n",
              "      <th>id</th>\n",
              "      <th>text_en</th>\n",
              "      <th>text_pt</th>\n",
              "      <th>sentiment</th>\n",
              "    </tr>\n",
              "  </thead>\n",
              "  <tbody>\n",
              "    <tr>\n",
              "      <th>0</th>\n",
              "      <td>1</td>\n",
              "      <td>Once again Mr. Costner has dragged out a movie...</td>\n",
              "      <td>Mais uma vez, o Sr. Costner arrumou um filme p...</td>\n",
              "      <td>neg</td>\n",
              "    </tr>\n",
              "    <tr>\n",
              "      <th>1</th>\n",
              "      <td>2</td>\n",
              "      <td>This is an example of why the majority of acti...</td>\n",
              "      <td>Este é um exemplo do motivo pelo qual a maiori...</td>\n",
              "      <td>neg</td>\n",
              "    </tr>\n",
              "    <tr>\n",
              "      <th>2</th>\n",
              "      <td>3</td>\n",
              "      <td>First of all I hate those moronic rappers, who...</td>\n",
              "      <td>Primeiro de tudo eu odeio esses raps imbecis, ...</td>\n",
              "      <td>neg</td>\n",
              "    </tr>\n",
              "    <tr>\n",
              "      <th>3</th>\n",
              "      <td>4</td>\n",
              "      <td>Not even the Beatles could write songs everyon...</td>\n",
              "      <td>Nem mesmo os Beatles puderam escrever músicas ...</td>\n",
              "      <td>neg</td>\n",
              "    </tr>\n",
              "    <tr>\n",
              "      <th>4</th>\n",
              "      <td>5</td>\n",
              "      <td>Brass pictures movies is not a fitting word fo...</td>\n",
              "      <td>Filmes de fotos de latão não é uma palavra apr...</td>\n",
              "      <td>neg</td>\n",
              "    </tr>\n",
              "  </tbody>\n",
              "</table>\n",
              "</div>"
            ],
            "text/plain": [
              "   id  ... sentiment\n",
              "0   1  ...       neg\n",
              "1   2  ...       neg\n",
              "2   3  ...       neg\n",
              "3   4  ...       neg\n",
              "4   5  ...       neg\n",
              "\n",
              "[5 rows x 4 columns]"
            ]
          },
          "metadata": {
            "tags": []
          },
          "execution_count": 4
        }
      ]
    },
    {
      "cell_type": "code",
      "metadata": {
        "id": "u73XnF7JvXso"
      },
      "source": [
        "from sklearn.model_selection import train_test_split\n",
        "#retorna uma lista com os dados segregados\n",
        "#quero segregar (classificar textos)\n",
        "#coluna que deve seguir a proporção (Sentimento) e vai gerar as classes de treino\n",
        "\n",
        "treino, teste, classe_treino, classe_teste = train_test_split(review.text_pt,\n",
        "                                                              review.sentiment,\n",
        "                                                              random_state=42)"
      ],
      "execution_count": null,
      "outputs": []
    },
    {
      "cell_type": "code",
      "metadata": {
        "colab": {
          "base_uri": "https://localhost:8080/"
        },
        "id": "U5CWnlrpzUUT",
        "outputId": "e5efa0e9-2f0b-4b82-85b0-d29989fd84cf"
      },
      "source": [
        "treino"
      ],
      "execution_count": null,
      "outputs": [
        {
          "output_type": "execute_result",
          "data": {
            "text/plain": [
              "1348     Embora o filme tenha sido apenas assim, o clos...\n",
              "27466    Este é provavelmente um dos piores filmes que ...\n",
              "29998    De vez em quando, um filme irá varrer ao seu r...\n",
              "48186    Este é um conto completamente diabólico de quã...\n",
              "26473    Lenta, chata, extremamente repetitiva. Não adm...\n",
              "                               ...                        \n",
              "11284    Naach teria ganhado um Razzie para o Pior Film...\n",
              "44732    Apenas assisti a esse filme em DVD e achei a a...\n",
              "38158    Melhor show desde Seinfeld. Ela é realmente mu...\n",
              "860      Eu pareço estar discordando com muitas pessoas...\n",
              "15795    Minhas duas filhas de 11 e 13 anos e eu tive s...\n",
              "Name: text_pt, Length: 37094, dtype: object"
            ]
          },
          "metadata": {
            "tags": []
          },
          "execution_count": 6
        }
      ]
    },
    {
      "cell_type": "code",
      "metadata": {
        "colab": {
          "base_uri": "https://localhost:8080/"
        },
        "id": "QOIMJ0xRzVb5",
        "outputId": "298248d8-8d04-4bb9-e206-7c9acf5d4071"
      },
      "source": [
        "teste"
      ],
      "execution_count": null,
      "outputs": [
        {
          "output_type": "execute_result",
          "data": {
            "text/plain": [
              "12532    Isso era incomum: um filme moderno que era ult...\n",
              "35445    Alguns dos meus velhos amigos sugeriram que eu...\n",
              "20279    Que prazer. Isto é realmente uma paródia. Some...\n",
              "2969     Há cerca de dez minutos a meio da Strangeland,...\n",
              "45161    Otelo, a clássica história de Shakespearen sob...\n",
              "                               ...                        \n",
              "16421    Crescendo como filho do cinema, uma das trilog...\n",
              "39861    Este filme é o melhor filme de todos os tempos...\n",
              "309      \"Electra Glide in Blue\" é um movimento lento e...\n",
              "20638    Eu amo esse filme ! Eu acho que já vi 5 vezes ...\n",
              "38935    Eu vi alguns filmes sobre transtornos alimenta...\n",
              "Name: text_pt, Length: 12365, dtype: object"
            ]
          },
          "metadata": {
            "tags": []
          },
          "execution_count": 7
        }
      ]
    },
    {
      "cell_type": "code",
      "metadata": {
        "colab": {
          "base_uri": "https://localhost:8080/"
        },
        "id": "AEDpWGTnzXJQ",
        "outputId": "c3e5f530-8f52-436b-f2c6-919dd747031e"
      },
      "source": [
        "#labels\n",
        "classe_teste"
      ],
      "execution_count": null,
      "outputs": [
        {
          "output_type": "execute_result",
          "data": {
            "text/plain": [
              "12532    pos\n",
              "35445    neg\n",
              "20279    pos\n",
              "2969     neg\n",
              "45161    pos\n",
              "        ... \n",
              "16421    pos\n",
              "39861    pos\n",
              "309      neg\n",
              "20638    pos\n",
              "38935    pos\n",
              "Name: sentiment, Length: 12365, dtype: object"
            ]
          },
          "metadata": {
            "tags": []
          },
          "execution_count": 8
        }
      ]
    },
    {
      "cell_type": "code",
      "metadata": {
        "id": "mUsyxl0NzZ2V"
      },
      "source": [
        "from sklearn.linear_model import LogisticRegression\n",
        "\n",
        "logistic_regression = LogisticRegression()\n",
        "logistic_regression.fit(treino, classe_treino)"
      ],
      "execution_count": null,
      "outputs": []
    }
  ]
}